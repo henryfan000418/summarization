{
 "cells": [
  {
   "cell_type": "code",
   "execution_count": 19,
   "metadata": {},
   "outputs": [],
   "source": [
    "import spacy\n",
    "import numpy as np\n",
    "import matplotlib.pyplot as plt\n",
    "from sentence_transformers import SentenceTransformer\n",
    "from sklearn.metrics.pairwise import cosine_similarity\n",
    "import networkx as nx\n",
    "\n",
    "from summa import summarizer\n",
    "\n",
    "from sumy.parsers.plaintext import PlaintextParser\n",
    "from sumy.nlp.tokenizers import Tokenizer\n",
    "from sumy.summarizers.luhn import LuhnSummarizer\n",
    "from sumy.summarizers.lex_rank import LexRankSummarizer\n",
    "from sumy.summarizers.text_rank import TextRankSummarizer "
   ]
  },
  {
   "cell_type": "markdown",
   "metadata": {},
   "source": [
    "### Custom Implementation"
   ]
  },
  {
   "cell_type": "code",
   "execution_count": 2,
   "metadata": {},
   "outputs": [
    {
     "data": {
      "application/vnd.jupyter.widget-view+json": {
       "model_id": "1869a66500204a7482aa490892575b7b",
       "version_major": 2,
       "version_minor": 0
      },
      "text/plain": [
       "modules.json:   0%|          | 0.00/349 [00:00<?, ?B/s]"
      ]
     },
     "metadata": {},
     "output_type": "display_data"
    },
    {
     "data": {
      "application/vnd.jupyter.widget-view+json": {
       "model_id": "f1eb6c5782a04241ab16cfdbeaae2d5e",
       "version_major": 2,
       "version_minor": 0
      },
      "text/plain": [
       "config_sentence_transformers.json:   0%|          | 0.00/116 [00:00<?, ?B/s]"
      ]
     },
     "metadata": {},
     "output_type": "display_data"
    },
    {
     "data": {
      "application/vnd.jupyter.widget-view+json": {
       "model_id": "94a6638d6af845c28d25f3755c84a490",
       "version_major": 2,
       "version_minor": 0
      },
      "text/plain": [
       "README.md:   0%|          | 0.00/10.7k [00:00<?, ?B/s]"
      ]
     },
     "metadata": {},
     "output_type": "display_data"
    },
    {
     "data": {
      "application/vnd.jupyter.widget-view+json": {
       "model_id": "57105c3889564f6099c8ce8b10355ca2",
       "version_major": 2,
       "version_minor": 0
      },
      "text/plain": [
       "sentence_bert_config.json:   0%|          | 0.00/53.0 [00:00<?, ?B/s]"
      ]
     },
     "metadata": {},
     "output_type": "display_data"
    },
    {
     "data": {
      "application/vnd.jupyter.widget-view+json": {
       "model_id": "bc2170b67a904ab993673535b302b38a",
       "version_major": 2,
       "version_minor": 0
      },
      "text/plain": [
       "config.json:   0%|          | 0.00/612 [00:00<?, ?B/s]"
      ]
     },
     "metadata": {},
     "output_type": "display_data"
    },
    {
     "data": {
      "application/vnd.jupyter.widget-view+json": {
       "model_id": "cb1214b357254db1b9cfdf63d499c953",
       "version_major": 2,
       "version_minor": 0
      },
      "text/plain": [
       "model.safetensors:   0%|          | 0.00/90.9M [00:00<?, ?B/s]"
      ]
     },
     "metadata": {},
     "output_type": "display_data"
    },
    {
     "data": {
      "application/vnd.jupyter.widget-view+json": {
       "model_id": "87e691a3efe0493bb1ebecba1a203e8a",
       "version_major": 2,
       "version_minor": 0
      },
      "text/plain": [
       "tokenizer_config.json:   0%|          | 0.00/350 [00:00<?, ?B/s]"
      ]
     },
     "metadata": {},
     "output_type": "display_data"
    },
    {
     "data": {
      "application/vnd.jupyter.widget-view+json": {
       "model_id": "f4193fc2507a43c0a2d15cbc2738f9f2",
       "version_major": 2,
       "version_minor": 0
      },
      "text/plain": [
       "vocab.txt:   0%|          | 0.00/232k [00:00<?, ?B/s]"
      ]
     },
     "metadata": {},
     "output_type": "display_data"
    },
    {
     "data": {
      "application/vnd.jupyter.widget-view+json": {
       "model_id": "5c984729853a49aca7bb901c277af9df",
       "version_major": 2,
       "version_minor": 0
      },
      "text/plain": [
       "tokenizer.json:   0%|          | 0.00/466k [00:00<?, ?B/s]"
      ]
     },
     "metadata": {},
     "output_type": "display_data"
    },
    {
     "data": {
      "application/vnd.jupyter.widget-view+json": {
       "model_id": "76a5ef7cf71241dda8fa804fd7fd318c",
       "version_major": 2,
       "version_minor": 0
      },
      "text/plain": [
       "special_tokens_map.json:   0%|          | 0.00/112 [00:00<?, ?B/s]"
      ]
     },
     "metadata": {},
     "output_type": "display_data"
    },
    {
     "data": {
      "application/vnd.jupyter.widget-view+json": {
       "model_id": "2879e5f4b9424726b6e0ce76204866b9",
       "version_major": 2,
       "version_minor": 0
      },
      "text/plain": [
       "1_Pooling/config.json:   0%|          | 0.00/190 [00:00<?, ?B/s]"
      ]
     },
     "metadata": {},
     "output_type": "display_data"
    }
   ],
   "source": [
    "nlp = spacy.load(\"en_core_web_md\")\n",
    "embed_model = SentenceTransformer(\"all-MiniLM-L6-v2\")"
   ]
  },
  {
   "cell_type": "code",
   "execution_count": 14,
   "metadata": {},
   "outputs": [],
   "source": [
    "text = \"\"\"\\\n",
    "In the late 20th century, the digital revolution transformed industries and societies, reshaping how people communicate, work, and consume media. This era saw the rise of personal computers, the internet, and mobile technology, each contributing to a more interconnected global community. The revolution not only enhanced data accessibility but also spurred significant innovations in software and hardware development. Companies like Microsoft and Apple became household names, driving forward technological advancements and changing everyday life. Despite its many benefits, this transformation also brought challenges, including privacy concerns and a digital divide that left certain populations behind. As the 21st century progresses, addressing these issues remains crucial to ensuring the digital revolution benefits all segments of society. I also like pizza.\"\"\""
   ]
  },
  {
   "cell_type": "code",
   "execution_count": 25,
   "metadata": {},
   "outputs": [],
   "source": [
    "def get_sentences(text, spacy_pipeline):\n",
    "    doc = spacy_pipeline(text)\n",
    "    return [sent.text for sent in doc.sents]"
   ]
  },
  {
   "cell_type": "code",
   "execution_count": 26,
   "metadata": {},
   "outputs": [
    {
     "data": {
      "text/plain": [
       "['In the late 20th century, the digital revolution transformed industries and societies, reshaping how people communicate, work, and consume media.',\n",
       " 'This era saw the rise of personal computers, the internet, and mobile technology, each contributing to a more interconnected global community.',\n",
       " 'The revolution not only enhanced data accessibility but also spurred significant innovations in software and hardware development.',\n",
       " 'Companies like Microsoft and Apple became household names, driving forward technological advancements and changing everyday life.',\n",
       " 'Despite its many benefits, this transformation also brought challenges, including privacy concerns and a digital divide that left certain populations behind.',\n",
       " 'As the 21st century progresses, addressing these issues remains crucial to ensuring the digital revolution benefits all segments of society.',\n",
       " 'I also like pizza.']"
      ]
     },
     "execution_count": 26,
     "metadata": {},
     "output_type": "execute_result"
    }
   ],
   "source": [
    "sentences = get_sentences(text, nlp)\n",
    "sentences"
   ]
  },
  {
   "cell_type": "code",
   "execution_count": 16,
   "metadata": {},
   "outputs": [
    {
     "data": {
      "text/plain": [
       "array([[ 0.03146183, -0.01059931, -0.01260891, ...,  0.01552915,\n",
       "        -0.01615163, -0.01919607],\n",
       "       [-0.04033399, -0.00759711,  0.055754  , ..., -0.03456561,\n",
       "        -0.02074338, -0.02348005],\n",
       "       [-0.03338213, -0.02969549, -0.03487043, ..., -0.03490952,\n",
       "         0.03574602, -0.00899226],\n",
       "       ...,\n",
       "       [-0.03194752,  0.05362371,  0.00313259, ..., -0.02777527,\n",
       "        -0.02137522,  0.0779881 ],\n",
       "       [ 0.00837636,  0.03147788, -0.01381101, ..., -0.02347203,\n",
       "         0.00808282, -0.0442525 ],\n",
       "       [-0.08327048, -0.0460482 , -0.00595612, ...,  0.06138011,\n",
       "         0.06692079, -0.07943832]], dtype=float32)"
      ]
     },
     "execution_count": 16,
     "metadata": {},
     "output_type": "execute_result"
    }
   ],
   "source": [
    "embeddings = embed_model.encode(sentences)\n",
    "embeddings"
   ]
  },
  {
   "cell_type": "code",
   "execution_count": 58,
   "metadata": {},
   "outputs": [
    {
     "data": {
      "text/plain": [
       "array([[ 0.267,  0.17 ,  0.114,  0.132,  0.139,  0.184, -0.007],\n",
       "       [ 0.175,  0.276,  0.122,  0.143,  0.122,  0.151,  0.011],\n",
       "       [ 0.135,  0.141,  0.318,  0.136,  0.148,  0.135, -0.012],\n",
       "       [ 0.155,  0.162,  0.133,  0.313,  0.119,  0.109,  0.009],\n",
       "       [ 0.152,  0.129,  0.136,  0.111,  0.292,  0.183, -0.003],\n",
       "       [ 0.192,  0.152,  0.118,  0.096,  0.174,  0.278, -0.009],\n",
       "       [-0.029,  0.041, -0.041,  0.03 , -0.011, -0.034,  1.044]],\n",
       "      dtype=float32)"
      ]
     },
     "execution_count": 58,
     "metadata": {},
     "output_type": "execute_result"
    }
   ],
   "source": [
    "similarity_mtx = cosine_similarity(embeddings)\n",
    "similarity_mtx = similarity_mtx / similarity_mtx.sum(axis=1, keepdims=True)\n",
    "similarity_mtx.round(3)"
   ]
  },
  {
   "cell_type": "code",
   "execution_count": 59,
   "metadata": {},
   "outputs": [],
   "source": [
    "def create_similarity_graph(sim_matrix):\n",
    "\n",
    "    graph = nx.Graph()\n",
    "    n_sentences = sim_matrix.shape[0]\n",
    "\n",
    "    # adding a node for every sentence\n",
    "    for idx in range(n_sentences):\n",
    "        graph.add_node(idx)\n",
    "    \n",
    "    # adding an edge between every pair of sentences\n",
    "    for i in range(n_sentences):\n",
    "        for j in range(n_sentences):\n",
    "            if i != j:\n",
    "                graph.add_edge(i, j, weight=sim_matrix[i][j])\n",
    "\n",
    "    return graph"
   ]
  },
  {
   "cell_type": "code",
   "execution_count": 60,
   "metadata": {},
   "outputs": [
    {
     "data": {
      "text/plain": [
       "<networkx.classes.graph.Graph at 0x3ab39e290>"
      ]
     },
     "execution_count": 60,
     "metadata": {},
     "output_type": "execute_result"
    }
   ],
   "source": [
    "graph = create_similarity_graph(similarity_mtx)\n",
    "graph"
   ]
  },
  {
   "cell_type": "code",
   "execution_count": 61,
   "metadata": {},
   "outputs": [],
   "source": [
    "def visualize_graph(graph, sentences):\n",
    "    pos = nx.spring_layout(graph)  # positions for all nodes\n",
    "\n",
    "    # nodes\n",
    "    nx.draw_networkx_nodes(graph, pos, node_size=700)\n",
    "\n",
    "    # edges\n",
    "    nx.draw_networkx_edges(graph, pos, width=1.0, alpha=0.5)\n",
    "\n",
    "    # labels\n",
    "    labels = {i: f\"{i+1}. {sentences[i][:30]}...\" if len(sentences[i]) > 30 else f\"{i+1}. {sentences[i]}\" for i in range(len(sentences))}\n",
    "    nx.draw_networkx_labels(graph, pos, labels, font_size=8)\n",
    "\n",
    "    plt.show()"
   ]
  },
  {
   "cell_type": "code",
   "execution_count": 62,
   "metadata": {},
   "outputs": [
    {
     "data": {
      "image/png": "[encoded data removed]",
      "text/plain": [
       "<Figure size 640x480 with 1 Axes>"
      ]
     },
     "metadata": {},
     "output_type": "display_data"
    }
   ],
   "source": [
    "visualize_graph(graph, sentences)"
   ]
  },
  {
   "cell_type": "code",
   "execution_count": 63,
   "metadata": {},
   "outputs": [
    {
     "data": {
      "text/plain": [
       "{0: 0.18559130552258585,\n",
       " 1: 0.16632627262234811,\n",
       " 2: 0.157541519404492,\n",
       " 3: 0.1466745933477058,\n",
       " 4: 0.16268708377420732,\n",
       " 5: 0.1711029613958671,\n",
       " 6: 0.010076263932793606}"
      ]
     },
     "execution_count": 63,
     "metadata": {},
     "output_type": "execute_result"
    }
   ],
   "source": [
    "scores = nx.pagerank(graph, weight='weight')\n",
    "scores"
   ]
  },
  {
   "cell_type": "code",
   "execution_count": 64,
   "metadata": {},
   "outputs": [],
   "source": [
    "def extract_summary(sentences, scores, top_n=5):\n",
    "    ranked_sentences = sorted(\n",
    "        ( (scores[i], s) for i, s in enumerate(sentences) ),\n",
    "        reverse=True\n",
    "    )\n",
    "    summary = ' '.join([sent for _, sent in ranked_sentences[:top_n]])\n",
    "    return summary"
   ]
  },
  {
   "cell_type": "code",
   "execution_count": 65,
   "metadata": {},
   "outputs": [
    {
     "name": "stdout",
     "output_type": "stream",
     "text": [
      "In the late 20th century, the digital revolution transformed industries and societies, reshaping how people communicate, work, and consume media. As the 21st century progresses, addressing these issues remains crucial to ensuring the digital revolution benefits all segments of society.\n"
     ]
    }
   ],
   "source": [
    "print(extract_summary(sentences, scores, top_n=2))"
   ]
  },
  {
   "cell_type": "markdown",
   "metadata": {},
   "source": [
    "### Out of the Box Implementation"
   ]
  },
  {
   "cell_type": "code",
   "execution_count": 38,
   "metadata": {},
   "outputs": [],
   "source": [
    "def sumy_summarize(text, summary_length=2, type=\"textrank\"):\n",
    "\n",
    "    parser = PlaintextParser.from_string(text, Tokenizer(\"english\"))\n",
    "\n",
    "    # select which summarizer to you\n",
    "    if type.lower() == \"lexrank\":\n",
    "        summarizer = LexRankSummarizer()\n",
    "    elif type.lower() == \"textrank\":\n",
    "        summarizer = TextRankSummarizer()\n",
    "    elif type.lower() == \"luhn\":\n",
    "        summarizer = LuhnSummarizer()\n",
    "    else:\n",
    "        raise ValueError(\"Unsupported summarizer type. Choose 'luhn', 'lexrank', or 'textrank'.\")\n",
    "\n",
    "    summary = summarizer(parser.document, summary_length)\n",
    "\n",
    "    return \" \".join([str(sentence) for sentence in summary])"
   ]
  },
  {
   "cell_type": "code",
   "execution_count": 40,
   "metadata": {},
   "outputs": [],
   "source": [
    "text = \"\"\"\\\n",
    "In the late 20th century, the digital revolution transformed industries and societies, reshaping how people communicate, work, and consume media. This era saw the rise of personal computers, the internet, and mobile technology, each contributing to a more interconnected global community. The revolution not only enhanced data accessibility but also spurred significant innovations in software and hardware development. Companies like Microsoft and Apple became household names, driving forward technological advancements and changing everyday life. Despite its many benefits, this transformation also brought challenges, including privacy concerns and a digital divide that left certain populations behind. As the 21st century progresses, addressing these issues remains crucial to ensuring the digital revolution benefits all segments of society.\"\"\""
   ]
  },
  {
   "cell_type": "code",
   "execution_count": 41,
   "metadata": {},
   "outputs": [
    {
     "data": {
      "text/plain": [
       "'As the 21st century progresses, addressing these issues remains crucial to ensuring the digital revolution benefits all segments of society.'"
      ]
     },
     "execution_count": 41,
     "metadata": {},
     "output_type": "execute_result"
    }
   ],
   "source": [
    "summarizer.summarize(text)"
   ]
  },
  {
   "cell_type": "code",
   "execution_count": 42,
   "metadata": {},
   "outputs": [
    {
     "data": {
      "text/plain": [
       "'In the late 20th century, the digital revolution transformed industries and societies, reshaping how people communicate, work, and consume media. This era saw the rise of personal computers, the internet, and mobile technology, each contributing to a more interconnected global community.'"
      ]
     },
     "execution_count": 42,
     "metadata": {},
     "output_type": "execute_result"
    }
   ],
   "source": [
    "sumy_summarize(text)"
   ]
  },
  {
   "cell_type": "code",
   "execution_count": 43,
   "metadata": {},
   "outputs": [],
   "source": [
    "text = \"\"\"\\\n",
    "Advancements in renewable energy technologies have accelerated over the past decade, particularly in solar and wind energy sectors. These technologies are now more cost-effective and efficient, making them competitive with traditional fossil fuels. Governments and private sectors worldwide are increasingly investing in these clean energy sources to reduce carbon    emissions and combat climate change.\n",
    "\n",
    "Despite the progress, the transition to renewable energy is not without challenges. The primary obstacles include the intermittency of wind and solar power, the need for substantial infrastructure investments, and resistance from industries reliant on fossil fuels. Overcoming these hurdles is essential for a sustainable energy future, requiring innovative solutions and persistent policy support.\"\"\""
   ]
  },
  {
   "cell_type": "code",
   "execution_count": 44,
   "metadata": {},
   "outputs": [
    {
     "data": {
      "text/plain": [
       "'Advancements in renewable energy technologies have accelerated over the past decade, particularly in solar and wind energy sectors.'"
      ]
     },
     "execution_count": 44,
     "metadata": {},
     "output_type": "execute_result"
    }
   ],
   "source": [
    "summarizer.summarize(text)"
   ]
  },
  {
   "cell_type": "code",
   "execution_count": 45,
   "metadata": {},
   "outputs": [
    {
     "data": {
      "text/plain": [
       "'Advancements in renewable energy technologies have accelerated over the past decade, particularly in solar and wind energy sectors. The primary obstacles include the intermittency of wind and solar power, the need for substantial infrastructure investments, and resistance from industries reliant on fossil fuels.'"
      ]
     },
     "execution_count": 45,
     "metadata": {},
     "output_type": "execute_result"
    }
   ],
   "source": [
    "sumy_summarize(text)"
   ]
  },
  {
   "cell_type": "code",
   "execution_count": 17,
   "metadata": {},
   "outputs": [],
   "source": [
    "text = \"\"\"\\\n",
    "Natural Language Processing (NLP) is a dynamic field of artificial intelligence that focuses on enabling machines to understand and interact with human language. It combines computational linguistics—rule-based modeling of human language—with statistical, machine learning, and deep learning models. These technologies allow for a range of applications, from speech recognition and translation to sentiment analysis and chatbots, revolutionizing how humans interact with machines and process large amounts of data efficiently and effectively.\"\"\""
   ]
  },
  {
   "cell_type": "code",
   "execution_count": 18,
   "metadata": {},
   "outputs": [
    {
     "data": {
      "text/plain": [
       "'Natural Language Processing (NLP) is a dynamic field of artificial intelligence that focuses on enabling machines to understand and interact with human language.'"
      ]
     },
     "execution_count": 18,
     "metadata": {},
     "output_type": "execute_result"
    }
   ],
   "source": [
    "summarizer.summarize(text, ratio=0.5)"
   ]
  },
  {
   "cell_type": "code",
   "execution_count": 19,
   "metadata": {},
   "outputs": [
    {
     "data": {
      "text/plain": [
       "'Natural Language Processing (NLP) is a dynamic field of artificial intelligence that focuses on enabling machines to understand and interact with human language. These technologies allow for a range of applications, from speech recognition and translation to sentiment analysis and chatbots, revolutionizing how humans interact with machines and process large amounts of data efficiently and effectively.'"
      ]
     },
     "execution_count": 19,
     "metadata": {},
     "output_type": "execute_result"
    }
   ],
   "source": [
    "sumy_summarize(text)"
   ]
  }
 ],
 "metadata": {
  "kernelspec": {
   "display_name": "adsp-nlp",
   "language": "python",
   "name": "python3"
  },
  "language_info": {
   "codemirror_mode": {
    "name": "ipython",
    "version": 3
   },
   "file_extension": ".py",
   "mimetype": "text/x-python",
   "name": "python",
   "nbconvert_exporter": "python",
   "pygments_lexer": "ipython3",
   "version": "3.11.9"
  }
 },
 "nbformat": 4,
 "nbformat_minor": 2
}
