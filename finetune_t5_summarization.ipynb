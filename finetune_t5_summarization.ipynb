{
 "cells": [
  {
   "cell_type": "code",
   "execution_count": 1,
   "metadata": {
    "tags": []
   },
   "outputs": [],
   "source": [
    "import torch\n",
    "import evaluate\n",
    "import numpy as np\n",
    "from datasets import load_dataset\n",
    "from transformers import (\n",
    "    pipeline,\n",
    "    AutoConfig,\n",
    "    AutoTokenizer,\n",
    "    AutoModelForSeq2SeqLM,\n",
    "    DataCollatorForSeq2Seq,\n",
    "    Seq2SeqTrainingArguments,\n",
    "    Seq2SeqTrainer,\n",
    "    GenerationConfig\n",
    ")"
   ]
  },
  {
   "cell_type": "code",
   "execution_count": 2,
   "metadata": {
    "tags": []
   },
   "outputs": [
    {
     "name": "stdout",
     "output_type": "stream",
     "text": [
      "Using cuda as device.\n"
     ]
    }
   ],
   "source": [
    "if torch.cuda.is_available():\n",
    "    device = \"cuda\"\n",
    "else:\n",
    "    device = \"cpu\"\n",
    "\n",
    "print(f\"Using {device} as device.\")"
   ]
  },
  {
   "cell_type": "code",
   "execution_count": 3,
   "metadata": {
    "tags": []
   },
   "outputs": [],
   "source": [
    "model_ckpt = \"google-t5/t5-small\"\n",
    "output_dir = \"./t5-finetuned-billsum\""
   ]
  },
  {
   "cell_type": "code",
   "execution_count": 4,
   "metadata": {
    "tags": []
   },
   "outputs": [
    {
     "data": {
      "application/vnd.jupyter.widget-view+json": {
       "model_id": "f1b8c5eaf614432a85c028e7c968cb88",
       "version_major": 2,
       "version_minor": 0
      },
      "text/plain": [
       "tokenizer_config.json:   0%|          | 0.00/2.32k [00:00<?, ?B/s]"
      ]
     },
     "metadata": {},
     "output_type": "display_data"
    },
    {
     "data": {
      "application/vnd.jupyter.widget-view+json": {
       "model_id": "ca1684c25fb74701a8451dd4c1183d8f",
       "version_major": 2,
       "version_minor": 0
      },
      "text/plain": [
       "spiece.model:   0%|          | 0.00/792k [00:00<?, ?B/s]"
      ]
     },
     "metadata": {},
     "output_type": "display_data"
    },
    {
     "data": {
      "application/vnd.jupyter.widget-view+json": {
       "model_id": "dc6c8aa33ddc4c1489e35d346eb9639e",
       "version_major": 2,
       "version_minor": 0
      },
      "text/plain": [
       "tokenizer.json:   0%|          | 0.00/1.39M [00:00<?, ?B/s]"
      ]
     },
     "metadata": {},
     "output_type": "display_data"
    },
    {
     "data": {
      "application/vnd.jupyter.widget-view+json": {
       "model_id": "523c5d053b874a938cd5c493fd0933a3",
       "version_major": 2,
       "version_minor": 0
      },
      "text/plain": [
       "config.json:   0%|          | 0.00/1.21k [00:00<?, ?B/s]"
      ]
     },
     "metadata": {},
     "output_type": "display_data"
    },
    {
     "data": {
      "application/vnd.jupyter.widget-view+json": {
       "model_id": "969a8c5d4b394e7695e75fcc7668e2c3",
       "version_major": 2,
       "version_minor": 0
      },
      "text/plain": [
       "model.safetensors:   0%|          | 0.00/242M [00:00<?, ?B/s]"
      ]
     },
     "metadata": {},
     "output_type": "display_data"
    },
    {
     "data": {
      "application/vnd.jupyter.widget-view+json": {
       "model_id": "323003db5bf444f2837b77d5c13800a8",
       "version_major": 2,
       "version_minor": 0
      },
      "text/plain": [
       "generation_config.json:   0%|          | 0.00/147 [00:00<?, ?B/s]"
      ]
     },
     "metadata": {},
     "output_type": "display_data"
    }
   ],
   "source": [
    "tokenizer = AutoTokenizer.from_pretrained(model_ckpt)\n",
    "model = AutoModelForSeq2SeqLM.from_pretrained(model_ckpt).to(device)"
   ]
  },
  {
   "cell_type": "markdown",
   "metadata": {},
   "source": [
    "### Loading Data"
   ]
  },
  {
   "cell_type": "code",
   "execution_count": 5,
   "metadata": {
    "tags": []
   },
   "outputs": [
    {
     "data": {
      "application/vnd.jupyter.widget-view+json": {
       "model_id": "20413ee2e50b495fbfcf9b054cae30f0",
       "version_major": 2,
       "version_minor": 0
      },
      "text/plain": [
       "Downloading readme:   0%|          | 0.00/7.27k [00:00<?, ?B/s]"
      ]
     },
     "metadata": {},
     "output_type": "display_data"
    },
    {
     "data": {
      "application/vnd.jupyter.widget-view+json": {
       "model_id": "37c52fe665ac4dbe95d23ee1588f51fa",
       "version_major": 2,
       "version_minor": 0
      },
      "text/plain": [
       "Downloading data:   0%|          | 0.00/91.8M [00:00<?, ?B/s]"
      ]
     },
     "metadata": {},
     "output_type": "display_data"
    },
    {
     "data": {
      "application/vnd.jupyter.widget-view+json": {
       "model_id": "2f09b27dcfce412a882cb11647e9a21d",
       "version_major": 2,
       "version_minor": 0
      },
      "text/plain": [
       "Downloading data:   0%|          | 0.00/15.8M [00:00<?, ?B/s]"
      ]
     },
     "metadata": {},
     "output_type": "display_data"
    },
    {
     "data": {
      "application/vnd.jupyter.widget-view+json": {
       "model_id": "659daca965454c8fa872033392d856c9",
       "version_major": 2,
       "version_minor": 0
      },
      "text/plain": [
       "Downloading data:   0%|          | 0.00/6.12M [00:00<?, ?B/s]"
      ]
     },
     "metadata": {},
     "output_type": "display_data"
    },
    {
     "data": {
      "application/vnd.jupyter.widget-view+json": {
       "model_id": "3b36ca374ae74bb3bd8d0a95a9cbb336",
       "version_major": 2,
       "version_minor": 0
      },
      "text/plain": [
       "Generating train split:   0%|          | 0/18949 [00:00<?, ? examples/s]"
      ]
     },
     "metadata": {},
     "output_type": "display_data"
    },
    {
     "data": {
      "application/vnd.jupyter.widget-view+json": {
       "model_id": "72d23fc59a2248b9851eb74e18759399",
       "version_major": 2,
       "version_minor": 0
      },
      "text/plain": [
       "Generating test split:   0%|          | 0/3269 [00:00<?, ? examples/s]"
      ]
     },
     "metadata": {},
     "output_type": "display_data"
    },
    {
     "data": {
      "application/vnd.jupyter.widget-view+json": {
       "model_id": "4b3e54b1885445c481acf4268cadbb2c",
       "version_major": 2,
       "version_minor": 0
      },
      "text/plain": [
       "Generating ca_test split:   0%|          | 0/1237 [00:00<?, ? examples/s]"
      ]
     },
     "metadata": {},
     "output_type": "display_data"
    }
   ],
   "source": [
    "# loading the dataset\n",
    "dataset = load_dataset(\"billsum\")"
   ]
  },
  {
   "cell_type": "code",
   "execution_count": 6,
   "metadata": {
    "tags": []
   },
   "outputs": [
    {
     "data": {
      "text/plain": [
       "DatasetDict({\n",
       "    train: Dataset({\n",
       "        features: ['text', 'summary', 'title'],\n",
       "        num_rows: 18949\n",
       "    })\n",
       "    test: Dataset({\n",
       "        features: ['text', 'summary', 'title'],\n",
       "        num_rows: 3269\n",
       "    })\n",
       "    ca_test: Dataset({\n",
       "        features: ['text', 'summary', 'title'],\n",
       "        num_rows: 1237\n",
       "    })\n",
       "})"
      ]
     },
     "execution_count": 6,
     "metadata": {},
     "output_type": "execute_result"
    }
   ],
   "source": [
    "dataset"
   ]
  },
  {
   "cell_type": "code",
   "execution_count": 7,
   "metadata": {
    "tags": []
   },
   "outputs": [
    {
     "data": {
      "text/plain": [
       "{'text': \"SECTION 1. LIABILITY OF BUSINESS ENTITIES PROVIDING USE OF FACILITIES \\n              TO NONPROFIT ORGANIZATIONS.\\n\\n    (a) Definitions.--In this section:\\n            (1) Business entity.--The term ``business entity'' means a \\n        firm, corporation, association, partnership, consortium, joint \\n        venture, or other form of enterprise.\\n            (2) Facility.--The term ``facility'' means any real \\n        property, including any building, improvement, or appurtenance.\\n            (3) Gross negligence.--The term ``gross negligence'' means \\n        voluntary and conscious conduct by a person with knowledge (at \\n        the time of the conduct) that the conduct is likely to be \\n        harmful to the health or well-being of another person.\\n            (4) Intentional misconduct.--The term ``intentional \\n        misconduct'' means conduct by a person with knowledge (at the \\n        time of the conduct) that the conduct is harmful to the health \\n        or well-being of another person.\\n            (5) Nonprofit organization.--The term ``nonprofit \\n        organization'' means--\\n                    (A) any organization described in section 501(c)(3) \\n                of the Internal Revenue Code of 1986 and exempt from \\n                tax under section 501(a) of such Code; or\\n                    (B) any not-for-profit organization organized and \\n                conducted for public benefit and operated primarily for \\n                charitable, civic, educational, religious, welfare, or \\n                health purposes.\\n            (6) State.--The term ``State'' means each of the several \\n        States, the District of Columbia, the Commonwealth of Puerto \\n        Rico, the Virgin Islands, Guam, American Samoa, the Northern \\n        Mariana Islands, any other territory or possession of the \\n        United States, or any political subdivision of any such State, \\n        territory, or possession.\\n    (b) Limitation on Liability.--\\n            (1) In general.--Subject to subsection (c), a business \\n        entity shall not be subject to civil liability relating to any \\n        injury or death occurring at a facility of the business entity \\n        in connection with a use of such facility by a nonprofit \\n        organization if--\\n                    (A) the use occurs outside of the scope of business \\n                of the business entity;\\n                    (B) such injury or death occurs during a period \\n                that such facility is used by the nonprofit \\n                organization; and\\n                    (C) the business entity authorized the use of such \\n                facility by the nonprofit organization.\\n            (2) Application.--This subsection shall apply--\\n                    (A) with respect to civil liability under Federal \\n                and State law; and\\n                    (B) regardless of whether a nonprofit organization \\n                pays for the use of a facility.\\n    (c) Exception for Liability.--Subsection (b) shall not apply to an \\ninjury or death that results from an act or omission of a business \\nentity that constitutes gross negligence or intentional misconduct, \\nincluding any misconduct that--\\n            (1) constitutes a crime of violence (as that term is \\n        defined in section 16 of title 18, United States Code) or act \\n        of international terrorism (as that term is defined in section \\n        2331 of title 18) for which the defendant has been convicted in \\n        any court;\\n            (2) constitutes a hate crime (as that term is used in the \\n        Hate Crime Statistics Act (28 U.S.C. 534 note));\\n            (3) involves a sexual offense, as defined by applicable \\n        State law, for which the defendant has been convicted in any \\n        court; or\\n            (4) involves misconduct for which the defendant has been \\n        found to have violated a Federal or State civil rights law.\\n    (d) Superseding Provision.--\\n            (1) In general.--Subject to paragraph (2) and subsection \\n        (e), this Act preempts the laws of any State to the extent that \\n        such laws are inconsistent with this Act, except that this Act \\n        shall not preempt any State law that provides additional \\n        protection from liability for a business entity for an injury \\n        or death with respect to which conditions under subparagraphs \\n        (A) through (C) of subsection (b)(1) apply.\\n            (2) Limitation.--Nothing in this Act shall be construed to \\n        supersede any Federal or State health or safety law.\\n    (e) Election of State Regarding Nonapplicability.--This Act shall \\nnot apply to any civil action in a State court against a business \\nentity in which all parties are citizens of the State if such State \\nenacts a statute--\\n            (1) citing the authority of this subsection;\\n            (2) declaring the election of such State that this Act \\n        shall not apply to such civil action in the State; and\\n            (3) containing no other provision.\",\n",
       " 'summary': \"Shields a business entity from civil liability relating to any injury or death occurring at a facility of that entity in connection with a use of such facility by a nonprofit organization if: (1) the use occurs outside the scope of business of the business entity; (2) such injury or death occurs during a period that such facility is used by such organization; and (3) the business entity authorized the use of such facility by the organization. \\nMakes this Act inapplicable to an injury or death that results from an act or omission of a business entity that constitutes gross negligence or intentional misconduct, including misconduct that: (1) constitutes a hate crime or a crime of violence or act of international terrorism for which the defendant has been convicted in any court; or (2) involves a sexual offense for which the defendant has been convicted in any court or misconduct for which the defendant has been found to have violated a Federal or State civil rights law. \\nPreempts State laws to the extent that such laws are inconsistent with this Act, except State law that provides additional protection from liability.  Specifies that this Act shall not be construed to supersede any Federal or State health or safety law. \\nMakes this Act inapplicable to any civil action in a State court against a business entity in which all parties are citizens of the State if such State, citing this Act's authority and containing no other provision, enacts a statute declaring the State's election that this Act shall not apply to such action in the State.\",\n",
       " 'title': 'A bill to limit the civil liability of business entities providing use of facilities to nonprofit organizations.'}"
      ]
     },
     "execution_count": 7,
     "metadata": {},
     "output_type": "execute_result"
    }
   ],
   "source": [
    "dataset[\"train\"][0]"
   ]
  },
  {
   "cell_type": "markdown",
   "metadata": {},
   "source": [
    "### Exploring the Data"
   ]
  },
  {
   "cell_type": "code",
   "execution_count": 8,
   "metadata": {
    "tags": []
   },
   "outputs": [
    {
     "data": {
      "text/html": [
       "<div>\n",
       "<style scoped>\n",
       "    .dataframe tbody tr th:only-of-type {\n",
       "        vertical-align: middle;\n",
       "    }\n",
       "\n",
       "    .dataframe tbody tr th {\n",
       "        vertical-align: top;\n",
       "    }\n",
       "\n",
       "    .dataframe thead th {\n",
       "        text-align: right;\n",
       "    }\n",
       "</style>\n",
       "<table border=\"1\" class=\"dataframe\">\n",
       "  <thead>\n",
       "    <tr style=\"text-align: right;\">\n",
       "      <th></th>\n",
       "      <th>text</th>\n",
       "      <th>summary</th>\n",
       "      <th>title</th>\n",
       "    </tr>\n",
       "  </thead>\n",
       "  <tbody>\n",
       "    <tr>\n",
       "      <th>0</th>\n",
       "      <td>SECTION 1. LIABILITY OF BUSINESS ENTITIES PROV...</td>\n",
       "      <td>Shields a business entity from civil liability...</td>\n",
       "      <td>A bill to limit the civil liability of busines...</td>\n",
       "    </tr>\n",
       "    <tr>\n",
       "      <th>1</th>\n",
       "      <td>SECTION 1. SHORT TITLE.\\n\\n    This Act may be...</td>\n",
       "      <td>Human Rights Information Act - Requires certai...</td>\n",
       "      <td>Human Rights Information Act</td>\n",
       "    </tr>\n",
       "    <tr>\n",
       "      <th>2</th>\n",
       "      <td>SECTION 1. SHORT TITLE.\\n\\n    This Act may be...</td>\n",
       "      <td>Jackie Robinson Commemorative Coin Act - Direc...</td>\n",
       "      <td>Jackie Robinson Commemorative Coin Act</td>\n",
       "    </tr>\n",
       "    <tr>\n",
       "      <th>3</th>\n",
       "      <td>SECTION 1. NONRECOGNITION OF GAIN WHERE ROLLOV...</td>\n",
       "      <td>Amends the Internal Revenue Code to provide (t...</td>\n",
       "      <td>To amend the Internal Revenue Code to provide ...</td>\n",
       "    </tr>\n",
       "    <tr>\n",
       "      <th>4</th>\n",
       "      <td>SECTION 1. SHORT TITLE.\\n\\n    This Act may be...</td>\n",
       "      <td>Native American Energy Act - (Sec. 3) Amends t...</td>\n",
       "      <td>Native American Energy Act</td>\n",
       "    </tr>\n",
       "  </tbody>\n",
       "</table>\n",
       "</div>"
      ],
      "text/plain": [
       "                                                text  \\\n",
       "0  SECTION 1. LIABILITY OF BUSINESS ENTITIES PROV...   \n",
       "1  SECTION 1. SHORT TITLE.\\n\\n    This Act may be...   \n",
       "2  SECTION 1. SHORT TITLE.\\n\\n    This Act may be...   \n",
       "3  SECTION 1. NONRECOGNITION OF GAIN WHERE ROLLOV...   \n",
       "4  SECTION 1. SHORT TITLE.\\n\\n    This Act may be...   \n",
       "\n",
       "                                             summary  \\\n",
       "0  Shields a business entity from civil liability...   \n",
       "1  Human Rights Information Act - Requires certai...   \n",
       "2  Jackie Robinson Commemorative Coin Act - Direc...   \n",
       "3  Amends the Internal Revenue Code to provide (t...   \n",
       "4  Native American Energy Act - (Sec. 3) Amends t...   \n",
       "\n",
       "                                               title  \n",
       "0  A bill to limit the civil liability of busines...  \n",
       "1                       Human Rights Information Act  \n",
       "2             Jackie Robinson Commemorative Coin Act  \n",
       "3  To amend the Internal Revenue Code to provide ...  \n",
       "4                         Native American Energy Act  "
      ]
     },
     "execution_count": 8,
     "metadata": {},
     "output_type": "execute_result"
    }
   ],
   "source": [
    "# switching to pandas output format for quick exploration\n",
    "dataset.set_format(type=\"pandas\")\n",
    "\n",
    "df = dataset[\"train\"][:]\n",
    "df.head()"
   ]
  },
  {
   "cell_type": "code",
   "execution_count": 9,
   "metadata": {
    "tags": []
   },
   "outputs": [],
   "source": [
    "# visualize the number of words in each column\n",
    "df[\"text_len\"] = df[\"text\"].str.split().str.len()\n",
    "df[\"summary_len\"] = df[\"summary\"].str.split().str.len()"
   ]
  },
  {
   "cell_type": "code",
   "execution_count": 10,
   "metadata": {
    "tags": []
   },
   "outputs": [
    {
     "data": {
      "text/plain": [
       "<Axes: >"
      ]
     },
     "execution_count": 10,
     "metadata": {},
     "output_type": "execute_result"
    },
    {
     "data": {
      "image/png": "[encoded data removed]",
      "text/plain": [
       "<Figure size 640x480 with 1 Axes>"
      ]
     },
     "metadata": {},
     "output_type": "display_data"
    }
   ],
   "source": [
    "df.boxplot(column=[\"text_len\"], grid=False, color=\"black\")"
   ]
  },
  {
   "cell_type": "code",
   "execution_count": 11,
   "metadata": {
    "tags": []
   },
   "outputs": [
    {
     "data": {
      "text/plain": [
       "<Axes: >"
      ]
     },
     "execution_count": 11,
     "metadata": {},
     "output_type": "execute_result"
    },
    {
     "data": {
      "image/png": "[encoded data removed]",
      "text/plain": [
       "<Figure size 640x480 with 1 Axes>"
      ]
     },
     "metadata": {},
     "output_type": "display_data"
    }
   ],
   "source": [
    "df.boxplot(column=[\"summary_len\"], grid=False, color=\"black\")"
   ]
  },
  {
   "cell_type": "code",
   "execution_count": 12,
   "metadata": {
    "tags": []
   },
   "outputs": [
    {
     "data": {
      "text/plain": [
       "512"
      ]
     },
     "execution_count": 12,
     "metadata": {},
     "output_type": "execute_result"
    }
   ],
   "source": [
    "# max model context window is 512 tokens\n",
    "tokenizer.model_max_length"
   ]
  },
  {
   "cell_type": "code",
   "execution_count": 13,
   "metadata": {
    "tags": []
   },
   "outputs": [
    {
     "name": "stdout",
     "output_type": "stream",
     "text": [
      "deleted successfully\n"
     ]
    }
   ],
   "source": [
    "dataset.reset_format()\n",
    "try:\n",
    "    del df\n",
    "    print(\"deleted successfully\")\n",
    "except:\n",
    "    pass"
   ]
  },
  {
   "cell_type": "markdown",
   "metadata": {},
   "source": [
    "### Preprocess"
   ]
  },
  {
   "cell_type": "markdown",
   "metadata": {},
   "source": [
    "There are a few things to keep in mind as we process / tokenize the data.\n",
    "\n",
    "1. Prefix `summarize` to each input sequence. The T5 model prefixes specific phrases to the input text, depending on the task. To get a full list of phrases, see Appendix D of the research paper: https://arxiv.org/abs/1910.10683\n",
    "2. Truncate the sequences longer than the model's maximum input length."
   ]
  },
  {
   "cell_type": "code",
   "execution_count": 14,
   "metadata": {
    "tags": []
   },
   "outputs": [],
   "source": [
    "prefix = \"summarize: \"\n",
    "def preprocess(batch):\n",
    "\n",
    "    prefixed = [prefix + seq for seq in batch[\"text\"]]\n",
    "    model_inputs = tokenizer(prefixed, truncation=True, max_length=512)\n",
    "    \n",
    "    labels = tokenizer(text_target=batch[\"summary\"], truncation=True, max_length=128)\n",
    "    model_inputs[\"labels\"] = labels[\"input_ids\"]\n",
    "\n",
    "    return model_inputs"
   ]
  },
  {
   "cell_type": "code",
   "execution_count": 15,
   "metadata": {
    "tags": []
   },
   "outputs": [
    {
     "data": {
      "application/vnd.jupyter.widget-view+json": {
       "model_id": "3c50059ce53344208aeb683a780f8017",
       "version_major": 2,
       "version_minor": 0
      },
      "text/plain": [
       "Map:   0%|          | 0/18949 [00:00<?, ? examples/s]"
      ]
     },
     "metadata": {},
     "output_type": "display_data"
    },
    {
     "data": {
      "application/vnd.jupyter.widget-view+json": {
       "model_id": "80f6af0bf5704f49b7922ea6a575b611",
       "version_major": 2,
       "version_minor": 0
      },
      "text/plain": [
       "Map:   0%|          | 0/3269 [00:00<?, ? examples/s]"
      ]
     },
     "metadata": {},
     "output_type": "display_data"
    },
    {
     "data": {
      "application/vnd.jupyter.widget-view+json": {
       "model_id": "9d01e05bbc344a7ca7f48f6ffcceefd5",
       "version_major": 2,
       "version_minor": 0
      },
      "text/plain": [
       "Map:   0%|          | 0/1237 [00:00<?, ? examples/s]"
      ]
     },
     "metadata": {},
     "output_type": "display_data"
    }
   ],
   "source": [
    "tokenized_dataset = dataset.map(preprocess, batched=True, batch_size=2000)"
   ]
  },
  {
   "cell_type": "code",
   "execution_count": 16,
   "metadata": {
    "tags": []
   },
   "outputs": [
    {
     "data": {
      "text/plain": [
       "DatasetDict({\n",
       "    train: Dataset({\n",
       "        features: ['text', 'summary', 'title', 'input_ids', 'attention_mask', 'labels'],\n",
       "        num_rows: 18949\n",
       "    })\n",
       "    test: Dataset({\n",
       "        features: ['text', 'summary', 'title', 'input_ids', 'attention_mask', 'labels'],\n",
       "        num_rows: 3269\n",
       "    })\n",
       "    ca_test: Dataset({\n",
       "        features: ['text', 'summary', 'title', 'input_ids', 'attention_mask', 'labels'],\n",
       "        num_rows: 1237\n",
       "    })\n",
       "})"
      ]
     },
     "execution_count": 16,
     "metadata": {},
     "output_type": "execute_result"
    }
   ],
   "source": [
    "tokenized_dataset"
   ]
  },
  {
   "cell_type": "markdown",
   "metadata": {},
   "source": [
    "Inputs and outputs for any given example will vary in length. This means that both the inputs and the labels have to be padding, and we can do so using the `DataCollatorForSeq2Seq` class"
   ]
  },
  {
   "cell_type": "code",
   "execution_count": 17,
   "metadata": {
    "tags": []
   },
   "outputs": [],
   "source": [
    "data_collator = DataCollatorForSeq2Seq(tokenizer=tokenizer, model=model_ckpt)"
   ]
  },
  {
   "cell_type": "markdown",
   "metadata": {},
   "source": [
    "### Evaluation"
   ]
  },
  {
   "cell_type": "code",
   "execution_count": 18,
   "metadata": {
    "tags": []
   },
   "outputs": [
    {
     "data": {
      "application/vnd.jupyter.widget-view+json": {
       "model_id": "95cad4a607ea4b7abfbdfde03283109f",
       "version_major": 2,
       "version_minor": 0
      },
      "text/plain": [
       "Downloading builder script:   0%|          | 0.00/6.27k [00:00<?, ?B/s]"
      ]
     },
     "metadata": {},
     "output_type": "display_data"
    }
   ],
   "source": [
    "rouge = evaluate.load(\"rouge\")"
   ]
  },
  {
   "cell_type": "code",
   "execution_count": 19,
   "metadata": {
    "tags": []
   },
   "outputs": [],
   "source": [
    "def compute_metrics(eval_pred):\n",
    "\n",
    "    # batch of predictions and labels\n",
    "    predictions, labels = eval_pred\n",
    "\n",
    "    # have to use batch decode to convert a batch of token ids to strings\n",
    "    decoded_preds = tokenizer.batch_decode(predictions, skip_special_tokens=True)\n",
    "\n",
    "    labels = np.where(labels != -100, labels, tokenizer.pad_token_id) # condition, if true, if false\n",
    "    decoded_labels = tokenizer.batch_decode(labels, skip_special_tokens=True)\n",
    "\n",
    "    result = rouge.compute(predictions=decoded_preds, references=decoded_labels, use_stemmer=True)\n",
    "\n",
    "    # adding a field to metric output for the length of generated text\n",
    "    # only care about tokens that aren't pad tokens for every generated sequence in the batch\n",
    "    prediction_len = [np.count_nonzero(pred != tokenizer.pad_token_id) for pred in predictions]\n",
    "    result[\"gen_len\"] = np.mean(prediction_len)\n",
    "\n",
    "    return {k: round(v, 4) for k, v in result.items()}"
   ]
  },
  {
   "cell_type": "markdown",
   "metadata": {},
   "source": [
    "### Training"
   ]
  },
  {
   "cell_type": "markdown",
   "metadata": {},
   "source": [
    "Hugginface utilizes many (fairly reasonable) defaults in various place within the ecosystem, including text generation. Because abstractive summarization has a text generation component, we can customize the text generation for our purposes. For example, the default max length generated by a model is 20 tokens, which may not be appropriate give a use-case. Our summaries average around 150 words, for instance. Therefore, we use a configuration config that we can pass to the `TrainingArguments` class. You can find configuration details here:  https://huggingface.co/docs/transformers/main/en/main_classes/text_generation#transformers.GenerationConfig"
   ]
  },
  {
   "cell_type": "code",
   "execution_count": 20,
   "metadata": {
    "tags": []
   },
   "outputs": [],
   "source": [
    "generation_config = GenerationConfig(\n",
    "    # params that control length of output\n",
    "    max_new_tokens=100,\n",
    "    early_stopping=True,\n",
    "    # parameters that control generation strategy\n",
    "    do_sample=True,\n",
    "    num_beams=4,\n",
    "    no_repeat_ngram_size=3,\n",
    "    top_p=0.90,\n",
    "    # special tokens\n",
    "    eos_token_id=model.config.eos_token_id,\n",
    "    pad_token_id=model.config.pad_token_id,\n",
    "    decoder_start_token_id=model.config.decoder_start_token_id\n",
    ")"
   ]
  },
  {
   "cell_type": "code",
   "execution_count": 21,
   "metadata": {
    "tags": []
   },
   "outputs": [],
   "source": [
    "training_args = Seq2SeqTrainingArguments(\n",
    "    output_dir=output_dir,\n",
    "    per_device_train_batch_size=16,\n",
    "    per_device_eval_batch_size=16,\n",
    "    num_train_epochs=4,\n",
    "    weight_decay=0.01,\n",
    "    eval_strategy=\"epoch\",\n",
    "    save_strategy=\"epoch\",\n",
    "    save_total_limit=3,\n",
    "    learning_rate=2e-5,\n",
    "    predict_with_generate=True,\n",
    "    generation_config=generation_config, # helpful because predict_with_generation is True\n",
    "    fp16=True,\n",
    "    push_to_hub=False,\n",
    ")"
   ]
  },
  {
   "cell_type": "code",
   "execution_count": 22,
   "metadata": {
    "tags": []
   },
   "outputs": [
    {
     "name": "stderr",
     "output_type": "stream",
     "text": [
      "/opt/conda/lib/python3.10/site-packages/accelerate/accelerator.py:432: FutureWarning: Passing the following arguments to `Accelerator` is deprecated and will be removed in version 1.0 of Accelerate: dict_keys(['dispatch_batches', 'split_batches', 'even_batches', 'use_seedable_sampler']). Please pass an `accelerate.DataLoaderConfiguration` instead: \n",
      "dataloader_config = DataLoaderConfiguration(dispatch_batches=None, split_batches=False, even_batches=True, use_seedable_sampler=True)\n",
      "  warnings.warn(\n"
     ]
    }
   ],
   "source": [
    "trainer = Seq2SeqTrainer(\n",
    "    model=model,\n",
    "    args=training_args,\n",
    "    train_dataset=tokenized_dataset[\"train\"],\n",
    "    eval_dataset=tokenized_dataset[\"test\"],\n",
    "    tokenizer=tokenizer,\n",
    "    data_collator=data_collator,\n",
    "    compute_metrics=compute_metrics,\n",
    ")"
   ]
  },
  {
   "cell_type": "code",
   "execution_count": 23,
   "metadata": {
    "tags": []
   },
   "outputs": [
    {
     "data": {
      "text/html": [
       "\n",
       "    <div>\n",
       "      \n",
       "      <progress value='4740' max='4740' style='width:300px; height:20px; vertical-align: middle;'></progress>\n",
       "      [4740/4740 1:28:23, Epoch 4/4]\n",
       "    </div>\n",
       "    <table border=\"1\" class=\"dataframe\">\n",
       "  <thead>\n",
       " <tr style=\"text-align: left;\">\n",
       "      <th>Epoch</th>\n",
       "      <th>Training Loss</th>\n",
       "      <th>Validation Loss</th>\n",
       "      <th>Rouge1</th>\n",
       "      <th>Rouge2</th>\n",
       "      <th>Rougel</th>\n",
       "      <th>Rougelsum</th>\n",
       "      <th>Gen Len</th>\n",
       "    </tr>\n",
       "  </thead>\n",
       "  <tbody>\n",
       "    <tr>\n",
       "      <td>1</td>\n",
       "      <td>2.423000</td>\n",
       "      <td>2.095798</td>\n",
       "      <td>0.506800</td>\n",
       "      <td>0.301200</td>\n",
       "      <td>0.391200</td>\n",
       "      <td>0.391300</td>\n",
       "      <td>89.917100</td>\n",
       "    </tr>\n",
       "    <tr>\n",
       "      <td>2</td>\n",
       "      <td>2.292300</td>\n",
       "      <td>2.022802</td>\n",
       "      <td>0.514600</td>\n",
       "      <td>0.309800</td>\n",
       "      <td>0.401100</td>\n",
       "      <td>0.401000</td>\n",
       "      <td>90.245000</td>\n",
       "    </tr>\n",
       "    <tr>\n",
       "      <td>3</td>\n",
       "      <td>2.216900</td>\n",
       "      <td>1.994161</td>\n",
       "      <td>0.516700</td>\n",
       "      <td>0.311600</td>\n",
       "      <td>0.402700</td>\n",
       "      <td>0.402700</td>\n",
       "      <td>90.475700</td>\n",
       "    </tr>\n",
       "    <tr>\n",
       "      <td>4</td>\n",
       "      <td>2.209200</td>\n",
       "      <td>1.985579</td>\n",
       "      <td>0.517700</td>\n",
       "      <td>0.312800</td>\n",
       "      <td>0.403900</td>\n",
       "      <td>0.403900</td>\n",
       "      <td>90.155700</td>\n",
       "    </tr>\n",
       "  </tbody>\n",
       "</table><p>"
      ],
      "text/plain": [
       "<IPython.core.display.HTML object>"
      ]
     },
     "metadata": {},
     "output_type": "display_data"
    },
    {
     "data": {
      "text/plain": [
       "TrainOutput(global_step=4740, training_loss=2.323213575660931, metrics={'train_runtime': 5304.6435, 'train_samples_per_second': 14.289, 'train_steps_per_second': 0.894, 'total_flos': 1.0258367184371712e+16, 'train_loss': 2.323213575660931, 'epoch': 4.0})"
      ]
     },
     "execution_count": 23,
     "metadata": {},
     "output_type": "execute_result"
    }
   ],
   "source": [
    "trainer.train()"
   ]
  },
  {
   "cell_type": "code",
   "execution_count": null,
   "metadata": {},
   "outputs": [],
   "source": []
  },
  {
   "cell_type": "markdown",
   "metadata": {},
   "source": [
    "### Inferencing"
   ]
  },
  {
   "cell_type": "code",
   "execution_count": 24,
   "metadata": {
    "tags": []
   },
   "outputs": [],
   "source": [
    "summarizer = pipeline(\"summarization\", model=\"./t5-finetuned-billsum/checkpoint-4740\")"
   ]
  },
  {
   "cell_type": "code",
   "execution_count": 27,
   "metadata": {
    "tags": []
   },
   "outputs": [],
   "source": [
    "def print_summary(idx):\n",
    "    text = dataset[\"ca_test\"][idx][\"text\"]\n",
    "    actual_summary = dataset[\"ca_test\"][idx][\"summary\"]\n",
    "    gen_summary = summarizer(text)[0][\"summary_text\"]\n",
    "    print(f\"'>>> Review: {text}'\")\n",
    "    print(f\"\\n'>>> Actual: {actual_summary}'\")\n",
    "    print(f\"\\n'>>> Generated: {gen_summary}'\")"
   ]
  },
  {
   "cell_type": "code",
   "execution_count": 28,
   "metadata": {
    "tags": []
   },
   "outputs": [
    {
     "name": "stdout",
     "output_type": "stream",
     "text": [
      "'>>> Review: The people of the State of California do enact as follows:\n",
      "\n",
      "\n",
      "SECTION 1.\n",
      "This act shall be known and may be cited as the California Workplace Flexibility Act of\n",
      "2015.\n",
      "2016.\n",
      "SEC. 2.\n",
      "The Legislature finds and declares all of the following:\n",
      "(a) California businesses and their workers suffer from outdated and inefficient workplace and overtime rules that do not allow for sufficient flexibility for employers and workers to schedule their hours of work for mutual benefit.\n",
      "(b) California overtime laws, which are unique in the country, make it difficult for most employers to reach an agreement with an individual worker that would allow a flexible work schedule.\n",
      "(c) Existing law does not permit a California employer to allow an individual worker to choose a flexible work schedule of four 10-hour days per week without overtime being paid.\n",
      "(d) As a consequence, large, small, and micro-employers do not have the flexibility to offer their employees the opportunity to take advantage of a flexible work schedule that would benefit the workers and their families.\n",
      "(e) Permitting employees to elect to work four 10-hour days per week without the payment of overtime would allow those employees to spend much-needed time with their families, lessen traffic congestion on our crowded roads and highways, allow workers to spend one day a week on personal matters, such as volunteering at a child’s school, scheduling medical appointments, and attending to other important family matters that often are difficult to schedule with a five-days-per-week, eight-hours-per-day schedule.\n",
      "(f) It is the intent of the Legislature in enacting the California Workplace Flexibility Act of\n",
      "2015\n",
      "2016\n",
      "to protect workers as follows:\n",
      "(1) An employee may not be forced to work more than eight hours in a day without receiving overtime, but, instead, he or she may request a flexible work schedule of up to four 10-hour days per week and the employer may agree to this schedule without having to pay overtime for the 9th and 10th hours worked per day in that schedule.\n",
      "(2) The employer will be required to pay overtime rates after 10 work hours in a day for workers who have chosen a flexible schedule pursuant to this act.\n",
      "(3) The employer will be required to pay double normal pay after 12 work hours in a day for a worker who has chosen a flexible schedule under this act.\n",
      "(4) The worker, including one who chooses a flexible schedule under this act, will receive overtime for any hours worked over 40 hours in a single week.\n",
      "(g) Workplaces that are unionized already allow workers to choose to work four 10-hour days; however, it is virtually impossible for workers of nonunionized workplaces to enjoy this benefit.\n",
      "SEC. 3.\n",
      "Section 510 of the Labor Code is amended to read:\n",
      "510.\n",
      "(a) Eight hours of labor constitutes a day’s work. Any work in excess of eight hours in one workday and any work in excess of 40 hours in any one workweek and the first eight hours worked on the seventh day of work in any one workweek shall be compensated at the rate of no less than one and one-half times the regular rate of pay for an employee. Any work in excess of 12 hours in one day shall be compensated at the rate of no less than twice the regular rate of pay for an employee. In addition, any work in excess of eight hours on any seventh day of a workweek shall be compensated at the rate of no less than twice the regular rate of pay of an employee. Nothing in this section requires an employer to combine more than one rate of overtime compensation in order to calculate the amount to be paid to an employee for any hour of overtime work. The requirements of this section do not apply to the payment of overtime compensation to an employee working pursuant to any of the following:\n",
      "(1) An alternative workweek schedule adopted pursuant to Section 511.\n",
      "(2) An employee-selected flexible work schedule adopted pursuant to Section 511.5.\n",
      "(3) An alternative workweek schedule adopted pursuant to a collective bargaining agreement pursuant to Section 514.\n",
      "(4) An alternative workweek schedule to which this chapter is inapplicable pursuant to Section 554.\n",
      "(b) Time spent commuting to and from the first place at which an employee’s presence is required by the employer shall not be considered to be a part of a day’s work, when the employee commutes in a vehicle that is owned, leased, or subsidized by the employer and is used for the purpose of ridesharing, as defined in Section 522 of the Vehicle Code.\n",
      "(c) This section does not affect, change, or limit an employer’s liability under the workers’ compensation law.\n",
      "SEC. 4.\n",
      "Section 511.5 is added to the Labor Code, to read:\n",
      "511.5.\n",
      "(a) Notwithstanding Section 511 or any other law or order of the Industrial Welfare Commission, an individual nonexempt employee may work up to 10 hours per workday without any obligation on the part of the employer to pay an overtime rate of compensation, except as provided in subdivision (b), if the employee requests this schedule in writing and the employer approves the request. This shall be referred to as an overtime exemption for an employee-selected flexible work schedule.\n",
      "(b) If an employee-selected flexible work schedule is adopted pursuant to subdivision (a), the employer shall pay overtime at one and one-half times the employee’s regular rate of pay for all hours worked over 40 hours in a workweek or over 10 hours in a workday, whichever is the greater number of hours. All work performed in excess of 12 hours per workday and in excess of eight hours on a fifth, sixth, or seventh day in the workweek shall be paid at double the employee’s regular rate of pay.\n",
      "(c) The employer may inform its employees that it is willing to consider an employee request to work an employee-selected flexible work schedule, but shall not induce a request by promising an employment benefit or threatening an employment detriment.\n",
      "(d) The employee or employer may discontinue the employee-selected flexible work schedule at any time by giving written notice to the other party. The request will be effective the first day of the next pay period or the fifth day after notice is given if there are fewer than five days before the start of the next pay period, unless otherwise agreed to by the employer and the employee.\n",
      "(e) This section does not apply to any employee covered by a valid collective bargaining agreement or employed by the state, a city, county, city and county, district, municipality, or other public, quasi-public, or municipal corporation, or any political subdivision of this state.\n",
      "(f) This section shall be liberally construed to accomplish its purposes.\n",
      "(g) (1) The Division of Labor Standards Enforcement shall enforce this section and shall adopt or revise regulations in a manner necessary to conform and implement this section.\n",
      "(2) This section shall prevail over any inconsistent provisions in any wage order of the Industrial Welfare Commission.'\n",
      "\n",
      "'>>> Actual: Existing law, with certain exceptions, establishes 8 hours as a day’s work and a 40-hour\n",
      "workweek,\n",
      "workweek\n",
      "and requires payment of prescribed overtime compensation for additional hours worked. Existing law authorizes the adoption by\n",
      "2/3\n",
      "of employees in a work unit of alternative workweek schedules providing for workdays no longer than 10 hours within a 40-hour workweek.\n",
      "This bill would enact the California Workplace Flexibility Act of\n",
      "2015.\n",
      "2016.\n",
      "The bill would permit an individual nonexempt employee to request an employee-selected flexible work schedule providing for workdays up to 10 hours per day within a 40-hour\n",
      "workweek,\n",
      "workweek\n",
      "and would allow the employer to implement this schedule without the obligation to pay overtime compensation for those additional hours in a workday. The bill would prescribe a method for calculating the payment of overtime for hours worked in excess of the permitted amounts and would establish requirements for termination of these agreements. The bill would except from its provisions employees covered by collective bargaining and public employees, as specified. The bill would require the Division of Labor Standards Enforcement in the Department of Industrial Relations to enforce this provision and adopt regulations.'\n",
      "\n",
      "'>>> Generated: California Workplace Flexibility Act of 2015 - Amends the Labor Code to require an employer to combine more than one rate of overtime compensation in order to calculate the amount to be paid to an employee for any hour of overtime work. Requires the employer to pay overtime at one and one-half times the employee’s regular rate of pay for any hours worked over 40 hours in a workweek or over 10 hours on a fifth, sixth, or seventh day in '\n"
     ]
    }
   ],
   "source": [
    "print_summary(100)"
   ]
  }
 ],
 "metadata": {
  "environment": {
   "kernel": "conda-root-py",
   "name": "workbench-notebooks.m119",
   "type": "gcloud",
   "uri": "us-docker.pkg.dev/deeplearning-platform-release/gcr.io/workbench-notebooks:m119"
  },
  "kernelspec": {
   "display_name": "adsp-nlp",
   "language": "python",
   "name": "micromamba-env-adsp-nlp-adsp-nlp"
  },
  "language_info": {
   "codemirror_mode": {
    "name": "ipython",
    "version": 3
   },
   "file_extension": ".py",
   "mimetype": "text/x-python",
   "name": "python",
   "nbconvert_exporter": "python",
   "pygments_lexer": "ipython3",
   "version": "3.11.9"
  }
 },
 "nbformat": 4,
 "nbformat_minor": 4
}
